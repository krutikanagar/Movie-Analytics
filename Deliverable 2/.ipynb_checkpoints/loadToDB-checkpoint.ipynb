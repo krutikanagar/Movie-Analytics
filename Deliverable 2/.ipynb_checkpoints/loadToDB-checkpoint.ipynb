{
 "cells": [
  {
   "cell_type": "code",
   "execution_count": 64,
   "metadata": {},
   "outputs": [],
   "source": [
    "#Import modules\n",
    "import pyexasol as e\n",
    "import pandas as pd\n",
    "\n",
    "#connect to exasol database\n",
    "con = e.connect(dsn=<host port>, user=<user>, password=<password>,schema=<schema>, compression=True)"
   ]
  },
  {
   "cell_type": "code",
   "execution_count": 65,
   "metadata": {},
   "outputs": [],
   "source": [
    "#create the genres table if it does not exist, truncate the table to clear older data if any\n",
    "con.execute('CREATE TABLE IF NOT EXISTS genres (genres_id decimal(18,0), genre_name varchar(500),movies_id decimal(18,0))')\n",
    "con.execute('TRUNCATE TABLE genres')\n",
    "\n",
    "#read genres csv into dataframe and load into the genres table in the database\n",
    "df_genres= pd.read_csv('Downloads/genres.csv' ,header=0)\n",
    "con.import_from_pandas(df_genres.drop_duplicates(), 'genres')"
   ]
  },
  {
   "cell_type": "code",
   "execution_count": 66,
   "metadata": {},
   "outputs": [],
   "source": [
    "#create the languages table if it does not exist, truncate the table to clear older data if any\n",
    "\n",
    "con.execute('CREATE TABLE  IF NOT EXISTS languages(iso_639_1_lang_name VARCHAR(100),lang_name VARCHAR(500),movies_id  decimal(18,0))')\n",
    "con.execute('TRUNCATE TABLE languages')\n",
    "\n",
    "#read languages csv into dataframe and load into the languages table in the database\n",
    "df_languages= pd.read_csv('Downloads/languages.csv' ,header=0)\n",
    "con.import_from_pandas(df_languages.drop_duplicates(), 'languages')\n"
   ]
  },
  {
   "cell_type": "code",
   "execution_count": 67,
   "metadata": {},
   "outputs": [],
   "source": [
    "#create the production_companies table if it does not exist, truncate the table to clear older data if any\n",
    "\n",
    "con.execute('CREATE TABLE IF NOT EXISTS production_companies(prod_comp_name varchar(500),production_companies_id decimal(18,0),movies_id  decimal(18,0))')\n",
    "con.execute('TRUNCATE TABLE production_companies')\n",
    "\n",
    "#read production_companies csv into dataframe and load into the languages table in the database\n",
    "df_production_companies= pd.read_csv('Downloads/production_companies.csv' ,header=0)\n",
    "con.import_from_pandas(df_production_companies.drop_duplicates(), 'production_companies')\n",
    "\n"
   ]
  },
  {
   "cell_type": "code",
   "execution_count": 68,
   "metadata": {},
   "outputs": [],
   "source": [
    "#create the movies table if it does not exist, truncate the table to clear older data if any\n",
    "\n",
    "con.execute('''\n",
    "CREATE TABLE IF NOT EXISTS movies( \n",
    "adult BOOLEAN,\n",
    "belongs_to_collection varchar(200000),\n",
    "budget DECIMAL(18,0),\n",
    "homepage varchar(2000),\n",
    "id decimal(18,0),\n",
    "imdb_id varchar(1000),\n",
    "original_language  varchar(200),\n",
    "original_title varchar(2000),\n",
    "overview varchar(200000),\n",
    "popularity decimal(18,4),\n",
    "poster_path varchar(1000),\n",
    "production_countries varchar(200000),\n",
    "release_date DATE,\n",
    "revenue decimal(18,4),\n",
    "runtime decimal(18,4),\n",
    "status varchar(100),\n",
    "tagline varchar(1000),\n",
    "title varchar(1000),\n",
    "video boolean,\n",
    "vote_average decimal(18,4),\n",
    "vote_count decimal(18,4))''')\n",
    "con.execute('TRUNCATE TABLE movies')\n",
    "\n",
    "\n",
    "#read movies csv into dataframe and load into the movies table in the database\n",
    "df_movies= pd.read_csv('Downloads/movies.csv' ,header=0)\n",
    "con.import_from_pandas(df_movies.drop_duplicates(), 'movies')\n",
    "\n",
    "\n"
   ]
  },
  {
   "cell_type": "code",
   "execution_count": 69,
   "metadata": {},
   "outputs": [],
   "source": [
    "# Aded the below to remove the outlier duplicate records for id with different popularity value\n",
    "con.execute('delete  FROM movies m1 WHERE Exists (SELECT 1 FROM movies m2 WHERE m1.id=m2.id AND m2.popularity>m1.popularity)');"
   ]
  },
  {
   "cell_type": "code",
   "execution_count": 70,
   "metadata": {},
   "outputs": [],
   "source": [
    "#close the exasol connection\n",
    "con.close()"
   ]
  }
 ],
 "metadata": {
  "kernelspec": {
   "display_name": "Python 3",
   "language": "python",
   "name": "python3"
  },
  "language_info": {
   "codemirror_mode": {
    "name": "ipython",
    "version": 3
   },
   "file_extension": ".py",
   "mimetype": "text/x-python",
   "name": "python",
   "nbconvert_exporter": "python",
   "pygments_lexer": "ipython3",
   "version": "3.8.3"
  }
 },
 "nbformat": 4,
 "nbformat_minor": 4
}

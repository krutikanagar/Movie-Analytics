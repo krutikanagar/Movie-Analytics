{
 "cells": [
  {
   "cell_type": "code",
   "execution_count": 1,
   "metadata": {},
   "outputs": [],
   "source": [
    "import pandas as pd\n",
    "from pandas import json_normalize\n",
    "import json\n",
    "import ast\n",
    "# Convert the data into json string and then load it as a python list, dictionary for traversal \n",
    "def CustomParser(data):\n",
    "    if(len(data))>0:\n",
    "        data = ast.literal_eval(data)\n",
    "        j1 = json.dumps(data)# converts a python object into a json string\n",
    "        j2=json.loads(j1) # converts a valid string into a python dict/list\n",
    "        return j2"
   ]
  },
  {
   "cell_type": "code",
   "execution_count": 12,
   "metadata": {},
   "outputs": [],
   "source": [
    "#read the movies_metadata file with all columns \n",
    "df_source1 = pd.read_csv('File Loaded/movies_metadata.csv',header=[0],converters={'genres':CustomParser,\n",
    "                                                                      'production_companies':CustomParser,\n",
    "                                                                      'production_countries':CustomParser,\n",
    "                                                                      'spoken_languages':CustomParser\n",
    "                                                                        })\n",
    "\n"
   ]
  },
  {
   "cell_type": "code",
   "execution_count": 7,
   "metadata": {},
   "outputs": [
    {
     "name": "stdout",
     "output_type": "stream",
     "text": [
      "                                                   adult  \\\n",
      "19730                                 - Written by Ørnås   \n",
      "29503   Rune Balot goes to a casino connected to the ...   \n",
      "35587   Avalanche Sharks tells the story of a bikini ...   \n",
      "\n",
      "      belongs_to_collection                            budget  \\\n",
      "19730              0.065736  /ff9qCepilowshEtG2GYWwzt2bs4.jpg   \n",
      "29503              1.931659  /zV8bHuSL6WXoD6FWogP9j4x80bL.jpg   \n",
      "35587              2.185485  /zaSf5OG7V8X8gqFvly88zDdRm46.jpg   \n",
      "\n",
      "                                                  genres  \\\n",
      "19730  [{'name': 'Carousel Productions', 'id': 11176}...   \n",
      "29503  [{'name': 'Aniplex', 'id': 2883}, {'name': 'Go...   \n",
      "35587  [{'name': 'Odyssey Media', 'id': 17161}, {'nam...   \n",
      "\n",
      "                                                homepage          id imdb_id  \\\n",
      "19730  [{'iso_3166_1': 'CA', 'name': 'Canada'}, {'iso...  1997-08-20       0   \n",
      "29503  [{'iso_3166_1': 'US', 'name': 'United States o...  2012-09-29       0   \n",
      "35587           [{'iso_3166_1': 'CA', 'name': 'Canada'}]  2014-01-01       0   \n",
      "\n",
      "      original_language                            original_title  overview  \\\n",
      "19730             104.0  [{'iso_639_1': 'en', 'name': 'English'}]  Released   \n",
      "29503              68.0      [{'iso_639_1': 'ja', 'name': '日本語'}]  Released   \n",
      "35587              82.0  [{'iso_639_1': 'en', 'name': 'English'}]  Released   \n",
      "\n",
      "       ... release_date revenue runtime spoken_languages status  tagline  \\\n",
      "19730  ...            1     NaN     NaN             None    NaN      NaN   \n",
      "29503  ...           12     NaN     NaN             None    NaN      NaN   \n",
      "35587  ...           22     NaN     NaN             None    NaN      NaN   \n",
      "\n",
      "       title video vote_average vote_count  \n",
      "19730    NaN   NaN          NaN        NaN  \n",
      "29503    NaN   NaN          NaN        NaN  \n",
      "35587    NaN   NaN          NaN        NaN  \n",
      "\n",
      "[3 rows x 24 columns]\n"
     ]
    }
   ],
   "source": [
    "print(df_source1[pd.to_numeric(df_source1['id'],errors='coerce').isnull()]) # Get bad records"
   ]
  },
  {
   "cell_type": "code",
   "execution_count": 8,
   "metadata": {},
   "outputs": [],
   "source": [
    "# using the source data frame loaded from flat file , create the movies data frame with relevant columns\n",
    "df_movies = df_source1[['adult','belongs_to_collection','budget','homepage','id','imdb_id','original_language','original_title',\n",
    "                        'overview','popularity','poster_path','production_countries','release_date','revenue','runtime','status',\n",
    "                        'tagline','title','video','vote_average','vote_count']]\n",
    "df_movies.to_csv('movies.csv', encoding='utf-8', index=False) \n",
    "\n",
    "\n"
   ]
  },
  {
   "cell_type": "code",
   "execution_count": 9,
   "metadata": {},
   "outputs": [],
   "source": [
    "# using the source data frame loaded from flat file , flatten the genres json data\n",
    "df_genres= df_source1[['id', 'genres']]\n",
    "\n",
    "df_genres = (pd.concat({i: json_normalize(x) for i, x in df_genres.pop('genres').items() if x is not None })\n",
    "         .reset_index(level=1, drop=True)\n",
    "         .join(df_genres, lsuffix='_genres', rsuffix='_movies'))\n",
    "\n",
    "\n",
    "#df_genres.drop_duplicates() \n",
    "\n",
    "df_genres.to_csv('genres.csv', encoding='utf-8', index=False) \n"
   ]
  },
  {
   "cell_type": "code",
   "execution_count": 10,
   "metadata": {},
   "outputs": [],
   "source": [
    "# using the source data frame loaded from flat file , flatten the languages json data\n",
    "df_languages= df_source1[['id', 'spoken_languages']]\n",
    "\n",
    "df_languages = (pd.concat({i: json_normalize(x) for i, x in df_languages.pop('spoken_languages').items() if x is not None })\n",
    "         .reset_index(level=1, drop=True)\n",
    "         .join(df_languages, lsuffix='_lang', rsuffix='_movies'))\n",
    "\n",
    "df_languages.to_csv('languages.csv', encoding='utf-8', index=False) \n"
   ]
  },
  {
   "cell_type": "code",
   "execution_count": 13,
   "metadata": {},
   "outputs": [],
   "source": [
    "# using the source data frame loaded from flat file , flatten the production companies json data\n",
    "df_production_companies= df_source1[['id', 'production_companies']]\n",
    "df_production_companies = (pd.concat({i: json_normalize(x) for i, x in df_production_companies.pop('production_companies').items() if x is not None })\n",
    "         .reset_index(level=1, drop=True)\n",
    "         .join(df_production_companies, lsuffix='_production_companies', rsuffix='_movies'))\n",
    "\n",
    "df_production_companies.to_csv('production_companies.csv', encoding='utf-8', index=False) \n"
   ]
  }
 ],
 "metadata": {
  "kernelspec": {
   "display_name": "Python 3",
   "language": "python",
   "name": "python3"
  },
  "language_info": {
   "codemirror_mode": {
    "name": "ipython",
    "version": 3
   },
   "file_extension": ".py",
   "mimetype": "text/x-python",
   "name": "python",
   "nbconvert_exporter": "python",
   "pygments_lexer": "ipython3",
   "version": "3.8.3"
  }
 },
 "nbformat": 4,
 "nbformat_minor": 4
}

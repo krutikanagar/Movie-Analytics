{
 "cells": [
  {
   "cell_type": "code",
   "execution_count": 595,
   "metadata": {},
   "outputs": [],
   "source": [
    "import pandas as pd\n",
    "from pandas import json_normalize\n",
    "import json\n",
    "import ast\n",
    "# Convert the data into json string and then load it as a python list, dictionary for traversal \n",
    "def CustomParser(data):\n",
    "    if(len(data))>0:\n",
    "        data = ast.literal_eval(data)\n",
    "        j1 = json.dumps(data)# converts a python object into a json string\n",
    "        j2=json.loads(j1) # converts a valid string into a python dict/list\n",
    "        return j2"
   ]
  },
  {
   "cell_type": "code",
   "execution_count": 596,
   "metadata": {},
   "outputs": [],
   "source": [
    "#read the movies_metadata file with all columns \n",
    "df_source1 = pd.read_csv('movies_metadata.csv',header=[0],converters={'genres':CustomParser,\n",
    "                                                                      'production_companies':CustomParser,\n",
    "                                                                      'production_countries':CustomParser,\n",
    "                                                                      'spoken_languages':CustomParser\n",
    "                                                                        })\n",
    "\n"
   ]
  },
  {
   "cell_type": "code",
   "execution_count": 597,
   "metadata": {},
   "outputs": [],
   "source": [
    "# using the source data frame loaded from flat file , create the movies data frame with relevant columns\n",
    "df_movies = df_source1[['adult','belongs_to_collection','budget','homepage','id','imdb_id','original_language','original_title',\n",
    "                        'overview','popularity','poster_path','production_countries','release_date','revenue','runtime','status',\n",
    "                        'tagline','title','video','vote_average','vote_count']]\n",
    "df_movies.to_csv('movies.csv', encoding='utf-8', index=False) \n",
    "\n",
    "\n"
   ]
  },
  {
   "cell_type": "code",
   "execution_count": 598,
   "metadata": {},
   "outputs": [],
   "source": [
    "# using the source data frame loaded from flat file , flatten the genres json data\n",
    "df_genres= df_source1[['id', 'genres'].copy()]\n",
    "\n",
    "df_genres = (pd.concat({i: json_normalize(x) for i, x in df_genres.pop('genres').items() if x is not None })\n",
    "         .reset_index(level=1, drop=True)\n",
    "         .join(df_genres, lsuffix='_genres', rsuffix='_movies')\n",
    "         .reset_index(drop=True))\n",
    "\n",
    "\n",
    "#df_genres.drop_duplicates() \n",
    "\n",
    "df_genres.to_csv('genres.csv', encoding='utf-8', index=False) \n"
   ]
  },
  {
   "cell_type": "code",
   "execution_count": 599,
   "metadata": {},
   "outputs": [],
   "source": [
    "# using the source data frame loaded from flat file , flatten the languages json data\n",
    "df_languages= df_source1[['id', 'spoken_languages'].copy()]\n",
    "\n",
    "df_languages = (pd.concat({i: json_normalize(x) for i, x in df_languages.pop('spoken_languages').items() if x is not None })\n",
    "         .reset_index(level=1, drop=True)\n",
    "         .join(df_languages, lsuffix='_lang', rsuffix='_movies')\n",
    "         .reset_index(drop=True))\n",
    "\n",
    "df_languages.to_csv('languages.csv', encoding='utf-8', index=False) \n"
   ]
  },
  {
   "cell_type": "code",
   "execution_count": 600,
   "metadata": {},
   "outputs": [],
   "source": [
    "# using the source data frame loaded from flat file , flatten the production companies json data\n",
    "df_production_companies= df_source1[['id', 'production_companies'].copy()]\n",
    "df_production_companies = (pd.concat({i: json_normalize(x) for i, x in df_production_companies.pop('production_companies').items() if x is not None })\n",
    "         .reset_index(level=1, drop=True)\n",
    "         .join(df_production_companies, lsuffix='_production_companies', rsuffix='_movies')\n",
    "         .reset_index(drop=True))\n",
    "\n",
    "df_production_companies.to_csv('production_companies.csv', encoding='utf-8', index=False) \n"
   ]
  }
 ],
 "metadata": {
  "kernelspec": {
   "display_name": "Python 3",
   "language": "python",
   "name": "python3"
  },
  "language_info": {
   "codemirror_mode": {
    "name": "ipython",
    "version": 3
   },
   "file_extension": ".py",
   "mimetype": "text/x-python",
   "name": "python",
   "nbconvert_exporter": "python",
   "pygments_lexer": "ipython3",
   "version": "3.8.3"
  }
 },
 "nbformat": 4,
 "nbformat_minor": 4
}
